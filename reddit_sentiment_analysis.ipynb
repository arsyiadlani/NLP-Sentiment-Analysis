{
  "nbformat": 4,
  "nbformat_minor": 0,
  "metadata": {
    "colab": {
      "name": "Reddit Sentiment Analysis for NLP Submission.ipynb",
      "provenance": [],
      "collapsed_sections": [],
      "authorship_tag": "ABX9TyM4VFX77f420wVSl++x0ZNh",
      "include_colab_link": true
    },
    "kernelspec": {
      "name": "python3",
      "display_name": "Python 3"
    },
    "accelerator": "GPU"
  },
  "cells": [
    {
      "cell_type": "markdown",
      "metadata": {
        "id": "view-in-github",
        "colab_type": "text"
      },
      "source": [
        "<a href=\"https://colab.research.google.com/github/arsyiadlani/NLP-Sentiment-Analysis/blob/main/reddit_sentiment_analysis.ipynb\" target=\"_parent\"><img src=\"https://colab.research.google.com/assets/colab-badge.svg\" alt=\"Open In Colab\"/></a>"
      ]
    },
    {
      "cell_type": "markdown",
      "metadata": {
        "id": "B7AO9xnbpddH"
      },
      "source": [
        "##DATA RETRIEVING"
      ]
    },
    {
      "cell_type": "code",
      "metadata": {
        "id": "eYkQ0nPuDR6m",
        "colab": {
          "base_uri": "https://localhost:8080/",
          "height": 34
        },
        "outputId": "41bb09fa-fed9-416e-f5de-8c664cb601d3"
      },
      "source": [
        "from google.colab import drive\n",
        "\n",
        "drive.mount('/content/drive')"
      ],
      "execution_count": null,
      "outputs": [
        {
          "output_type": "stream",
          "text": [
            "Drive already mounted at /content/drive; to attempt to forcibly remount, call drive.mount(\"/content/drive\", force_remount=True).\n"
          ],
          "name": "stdout"
        }
      ]
    },
    {
      "cell_type": "code",
      "metadata": {
        "id": "-nkv9dKqDg4j",
        "colab": {
          "base_uri": "https://localhost:8080/",
          "height": 419
        },
        "outputId": "82e90a42-cbef-4e6a-d0a0-058f99c44900"
      },
      "source": [
        "import pandas as pd\n",
        "\n",
        "df = pd.read_csv(\"/content/drive/My Drive/Reddit_Data.csv\")\n",
        "df"
      ],
      "execution_count": null,
      "outputs": [
        {
          "output_type": "execute_result",
          "data": {
            "text/html": [
              "<div>\n",
              "<style scoped>\n",
              "    .dataframe tbody tr th:only-of-type {\n",
              "        vertical-align: middle;\n",
              "    }\n",
              "\n",
              "    .dataframe tbody tr th {\n",
              "        vertical-align: top;\n",
              "    }\n",
              "\n",
              "    .dataframe thead th {\n",
              "        text-align: right;\n",
              "    }\n",
              "</style>\n",
              "<table border=\"1\" class=\"dataframe\">\n",
              "  <thead>\n",
              "    <tr style=\"text-align: right;\">\n",
              "      <th></th>\n",
              "      <th>clean_comment</th>\n",
              "      <th>category</th>\n",
              "    </tr>\n",
              "  </thead>\n",
              "  <tbody>\n",
              "    <tr>\n",
              "      <th>0</th>\n",
              "      <td>family mormon have never tried explain them t...</td>\n",
              "      <td>1</td>\n",
              "    </tr>\n",
              "    <tr>\n",
              "      <th>1</th>\n",
              "      <td>buddhism has very much lot compatible with chr...</td>\n",
              "      <td>1</td>\n",
              "    </tr>\n",
              "    <tr>\n",
              "      <th>2</th>\n",
              "      <td>seriously don say thing first all they won get...</td>\n",
              "      <td>-1</td>\n",
              "    </tr>\n",
              "    <tr>\n",
              "      <th>3</th>\n",
              "      <td>what you have learned yours and only yours wha...</td>\n",
              "      <td>0</td>\n",
              "    </tr>\n",
              "    <tr>\n",
              "      <th>4</th>\n",
              "      <td>for your own benefit you may want read living ...</td>\n",
              "      <td>1</td>\n",
              "    </tr>\n",
              "    <tr>\n",
              "      <th>...</th>\n",
              "      <td>...</td>\n",
              "      <td>...</td>\n",
              "    </tr>\n",
              "    <tr>\n",
              "      <th>37244</th>\n",
              "      <td>jesus</td>\n",
              "      <td>0</td>\n",
              "    </tr>\n",
              "    <tr>\n",
              "      <th>37245</th>\n",
              "      <td>kya bhai pure saal chutiya banaya modi aur jab...</td>\n",
              "      <td>1</td>\n",
              "    </tr>\n",
              "    <tr>\n",
              "      <th>37246</th>\n",
              "      <td>downvote karna tha par upvote hogaya</td>\n",
              "      <td>0</td>\n",
              "    </tr>\n",
              "    <tr>\n",
              "      <th>37247</th>\n",
              "      <td>haha nice</td>\n",
              "      <td>1</td>\n",
              "    </tr>\n",
              "    <tr>\n",
              "      <th>37248</th>\n",
              "      <td>facebook itself now working bjp’ cell</td>\n",
              "      <td>0</td>\n",
              "    </tr>\n",
              "  </tbody>\n",
              "</table>\n",
              "<p>37249 rows × 2 columns</p>\n",
              "</div>"
            ],
            "text/plain": [
              "                                           clean_comment  category\n",
              "0       family mormon have never tried explain them t...         1\n",
              "1      buddhism has very much lot compatible with chr...         1\n",
              "2      seriously don say thing first all they won get...        -1\n",
              "3      what you have learned yours and only yours wha...         0\n",
              "4      for your own benefit you may want read living ...         1\n",
              "...                                                  ...       ...\n",
              "37244                                              jesus         0\n",
              "37245  kya bhai pure saal chutiya banaya modi aur jab...         1\n",
              "37246              downvote karna tha par upvote hogaya          0\n",
              "37247                                         haha nice          1\n",
              "37248             facebook itself now working bjp’ cell          0\n",
              "\n",
              "[37249 rows x 2 columns]"
            ]
          },
          "metadata": {
            "tags": []
          },
          "execution_count": 2
        }
      ]
    },
    {
      "cell_type": "markdown",
      "metadata": {
        "id": "qyeAQD47ppvN"
      },
      "source": [
        "##DATA PREPROCESSING"
      ]
    },
    {
      "cell_type": "code",
      "metadata": {
        "id": "eg9jKEDJEKB-",
        "colab": {
          "base_uri": "https://localhost:8080/",
          "height": 34
        },
        "outputId": "fb1d62b4-20c8-43c2-9a82-c4f4b56d9a34"
      },
      "source": [
        "# Searching unique values of \"category\" column to determine model classes\n",
        "df[\"category\"].unique()"
      ],
      "execution_count": null,
      "outputs": [
        {
          "output_type": "execute_result",
          "data": {
            "text/plain": [
              "array([ 1, -1,  0])"
            ]
          },
          "metadata": {
            "tags": []
          },
          "execution_count": 3
        }
      ]
    },
    {
      "cell_type": "code",
      "metadata": {
        "id": "ODp-ugprE3_h",
        "colab": {
          "base_uri": "https://localhost:8080/",
          "height": 68
        },
        "outputId": "10148b21-557b-4de9-f095-7ba3dabee81f"
      },
      "source": [
        "# Checking for null values in the dataset\n",
        "df.isnull().sum()"
      ],
      "execution_count": null,
      "outputs": [
        {
          "output_type": "execute_result",
          "data": {
            "text/plain": [
              "clean_comment    100\n",
              "category           0\n",
              "dtype: int64"
            ]
          },
          "metadata": {
            "tags": []
          },
          "execution_count": 4
        }
      ]
    },
    {
      "cell_type": "code",
      "metadata": {
        "id": "lPJ1KlEEJ5w5"
      },
      "source": [
        "# Handling null values in the dataset\n",
        "df.loc[df[\"clean_comment\"].isnull(), \"category\"] = 0  # Labeling null values of comment as 0 (neutral)\n",
        "df.fillna(value=\"not available\", inplace=True)"
      ],
      "execution_count": null,
      "outputs": []
    },
    {
      "cell_type": "code",
      "metadata": {
        "id": "GeCEqCgMJNuJ",
        "colab": {
          "base_uri": "https://localhost:8080/",
          "height": 68
        },
        "outputId": "0a5ae3ca-af2b-4cb0-f886-810c6a0fbac1"
      },
      "source": [
        "# Ensuring the null values has been filled\n",
        "df.isnull().sum()"
      ],
      "execution_count": null,
      "outputs": [
        {
          "output_type": "execute_result",
          "data": {
            "text/plain": [
              "clean_comment    0\n",
              "category         0\n",
              "dtype: int64"
            ]
          },
          "metadata": {
            "tags": []
          },
          "execution_count": 6
        }
      ]
    },
    {
      "cell_type": "code",
      "metadata": {
        "id": "Z9A21LwZSxB7",
        "colab": {
          "base_uri": "https://localhost:8080/",
          "height": 34
        },
        "outputId": "9f1e3f1c-d3b9-4df0-f938-a47f8748e665"
      },
      "source": [
        "# Determining the algorithm for the neural model\n",
        "import numpy as np\n",
        "\n",
        "sample_num = 37249  # Number of samples in the dataset\n",
        "words_num = []\n",
        "\n",
        "for sentence in added_df[\"clean_comment\"].values:\n",
        "  len_words = len(sentence.split())\n",
        "  words_num.append(len_words)\n",
        "\n",
        "words_per_sample = np.median(words_num)  # Median value of the number of words in a sample\n",
        "\n",
        "print(sample_num / words_per_sample)  \n",
        "\n",
        "\"\"\"Because the value of total sample number divided by median of the number of words \n",
        "in every sample is >1500, we can safely conclude that this particular dataset is \n",
        "suitable for NLP analysis using embedding vectors technique.\n",
        "\"\"\""
      ],
      "execution_count": null,
      "outputs": [
        {
          "output_type": "stream",
          "text": [
            "2865.3076923076924\n"
          ],
          "name": "stdout"
        }
      ]
    },
    {
      "cell_type": "code",
      "metadata": {
        "id": "nweaKKHwEWpD",
        "colab": {
          "base_uri": "https://localhost:8080/",
          "height": 419
        },
        "outputId": "be10d64d-9fef-4709-c541-7fc9830815d8"
      },
      "source": [
        "# Labeling the dataset\n",
        "df[\"category\"].replace({-1:\"negative\", 0:\"neutral\", 1:\"positive\"}, inplace=True)\n",
        "df"
      ],
      "execution_count": null,
      "outputs": [
        {
          "output_type": "execute_result",
          "data": {
            "text/html": [
              "<div>\n",
              "<style scoped>\n",
              "    .dataframe tbody tr th:only-of-type {\n",
              "        vertical-align: middle;\n",
              "    }\n",
              "\n",
              "    .dataframe tbody tr th {\n",
              "        vertical-align: top;\n",
              "    }\n",
              "\n",
              "    .dataframe thead th {\n",
              "        text-align: right;\n",
              "    }\n",
              "</style>\n",
              "<table border=\"1\" class=\"dataframe\">\n",
              "  <thead>\n",
              "    <tr style=\"text-align: right;\">\n",
              "      <th></th>\n",
              "      <th>clean_comment</th>\n",
              "      <th>category</th>\n",
              "    </tr>\n",
              "  </thead>\n",
              "  <tbody>\n",
              "    <tr>\n",
              "      <th>0</th>\n",
              "      <td>family mormon have never tried explain them t...</td>\n",
              "      <td>positive</td>\n",
              "    </tr>\n",
              "    <tr>\n",
              "      <th>1</th>\n",
              "      <td>buddhism has very much lot compatible with chr...</td>\n",
              "      <td>positive</td>\n",
              "    </tr>\n",
              "    <tr>\n",
              "      <th>2</th>\n",
              "      <td>seriously don say thing first all they won get...</td>\n",
              "      <td>negative</td>\n",
              "    </tr>\n",
              "    <tr>\n",
              "      <th>3</th>\n",
              "      <td>what you have learned yours and only yours wha...</td>\n",
              "      <td>neutral</td>\n",
              "    </tr>\n",
              "    <tr>\n",
              "      <th>4</th>\n",
              "      <td>for your own benefit you may want read living ...</td>\n",
              "      <td>positive</td>\n",
              "    </tr>\n",
              "    <tr>\n",
              "      <th>...</th>\n",
              "      <td>...</td>\n",
              "      <td>...</td>\n",
              "    </tr>\n",
              "    <tr>\n",
              "      <th>37244</th>\n",
              "      <td>jesus</td>\n",
              "      <td>neutral</td>\n",
              "    </tr>\n",
              "    <tr>\n",
              "      <th>37245</th>\n",
              "      <td>kya bhai pure saal chutiya banaya modi aur jab...</td>\n",
              "      <td>positive</td>\n",
              "    </tr>\n",
              "    <tr>\n",
              "      <th>37246</th>\n",
              "      <td>downvote karna tha par upvote hogaya</td>\n",
              "      <td>neutral</td>\n",
              "    </tr>\n",
              "    <tr>\n",
              "      <th>37247</th>\n",
              "      <td>haha nice</td>\n",
              "      <td>positive</td>\n",
              "    </tr>\n",
              "    <tr>\n",
              "      <th>37248</th>\n",
              "      <td>facebook itself now working bjp’ cell</td>\n",
              "      <td>neutral</td>\n",
              "    </tr>\n",
              "  </tbody>\n",
              "</table>\n",
              "<p>37249 rows × 2 columns</p>\n",
              "</div>"
            ],
            "text/plain": [
              "                                           clean_comment  category\n",
              "0       family mormon have never tried explain them t...  positive\n",
              "1      buddhism has very much lot compatible with chr...  positive\n",
              "2      seriously don say thing first all they won get...  negative\n",
              "3      what you have learned yours and only yours wha...   neutral\n",
              "4      for your own benefit you may want read living ...  positive\n",
              "...                                                  ...       ...\n",
              "37244                                              jesus   neutral\n",
              "37245  kya bhai pure saal chutiya banaya modi aur jab...  positive\n",
              "37246              downvote karna tha par upvote hogaya    neutral\n",
              "37247                                         haha nice   positive\n",
              "37248             facebook itself now working bjp’ cell    neutral\n",
              "\n",
              "[37249 rows x 2 columns]"
            ]
          },
          "metadata": {
            "tags": []
          },
          "execution_count": 7
        }
      ]
    },
    {
      "cell_type": "code",
      "metadata": {
        "id": "MAH59Y2PL4rd",
        "colab": {
          "base_uri": "https://localhost:8080/",
          "height": 419
        },
        "outputId": "661dc51b-c9d8-42f0-e2aa-301c33dcb01f"
      },
      "source": [
        "# One-hot-encoding the dataset\n",
        "sentiment_category = pd.get_dummies(df[\"category\"])\n",
        "added_df = pd.concat([df, sentiment_category], axis=1).drop(columns=\"category\")\n",
        "added_df = added_df.sample(frac=1).reset_index(drop=True)  # Shuffling the dataset\n",
        "added_df"
      ],
      "execution_count": null,
      "outputs": [
        {
          "output_type": "execute_result",
          "data": {
            "text/html": [
              "<div>\n",
              "<style scoped>\n",
              "    .dataframe tbody tr th:only-of-type {\n",
              "        vertical-align: middle;\n",
              "    }\n",
              "\n",
              "    .dataframe tbody tr th {\n",
              "        vertical-align: top;\n",
              "    }\n",
              "\n",
              "    .dataframe thead th {\n",
              "        text-align: right;\n",
              "    }\n",
              "</style>\n",
              "<table border=\"1\" class=\"dataframe\">\n",
              "  <thead>\n",
              "    <tr style=\"text-align: right;\">\n",
              "      <th></th>\n",
              "      <th>clean_comment</th>\n",
              "      <th>negative</th>\n",
              "      <th>neutral</th>\n",
              "      <th>positive</th>\n",
              "    </tr>\n",
              "  </thead>\n",
              "  <tbody>\n",
              "    <tr>\n",
              "      <th>0</th>\n",
              "      <td>well many people use these words differently y...</td>\n",
              "      <td>0</td>\n",
              "      <td>0</td>\n",
              "      <td>1</td>\n",
              "    </tr>\n",
              "    <tr>\n",
              "      <th>1</th>\n",
              "      <td>this does not need controversial especially sc...</td>\n",
              "      <td>0</td>\n",
              "      <td>0</td>\n",
              "      <td>1</td>\n",
              "    </tr>\n",
              "    <tr>\n",
              "      <th>2</th>\n",
              "      <td>you don say</td>\n",
              "      <td>0</td>\n",
              "      <td>1</td>\n",
              "      <td>0</td>\n",
              "    </tr>\n",
              "    <tr>\n",
              "      <th>3</th>\n",
              "      <td>hindu don eat beef love cattle and see nothin...</td>\n",
              "      <td>0</td>\n",
              "      <td>0</td>\n",
              "      <td>1</td>\n",
              "    </tr>\n",
              "    <tr>\n",
              "      <th>4</th>\n",
              "      <td>naseeb wala ass context modi speaking petrol ...</td>\n",
              "      <td>0</td>\n",
              "      <td>1</td>\n",
              "      <td>0</td>\n",
              "    </tr>\n",
              "    <tr>\n",
              "      <th>...</th>\n",
              "      <td>...</td>\n",
              "      <td>...</td>\n",
              "      <td>...</td>\n",
              "      <td>...</td>\n",
              "    </tr>\n",
              "    <tr>\n",
              "      <th>37244</th>\n",
              "      <td>futuristic battles</td>\n",
              "      <td>0</td>\n",
              "      <td>1</td>\n",
              "      <td>0</td>\n",
              "    </tr>\n",
              "    <tr>\n",
              "      <th>37245</th>\n",
              "      <td>pak presiden republik indonesia bapak jokowi d...</td>\n",
              "      <td>0</td>\n",
              "      <td>1</td>\n",
              "      <td>0</td>\n",
              "    </tr>\n",
              "    <tr>\n",
              "      <th>37246</th>\n",
              "      <td>modi goverment did this not him alone individu...</td>\n",
              "      <td>0</td>\n",
              "      <td>1</td>\n",
              "      <td>0</td>\n",
              "    </tr>\n",
              "    <tr>\n",
              "      <th>37247</th>\n",
              "      <td>friends notes events sabhi recovery kar sakte...</td>\n",
              "      <td>0</td>\n",
              "      <td>1</td>\n",
              "      <td>0</td>\n",
              "    </tr>\n",
              "    <tr>\n",
              "      <th>37248</th>\n",
              "      <td>the other hand demonitization and follow meas...</td>\n",
              "      <td>1</td>\n",
              "      <td>0</td>\n",
              "      <td>0</td>\n",
              "    </tr>\n",
              "  </tbody>\n",
              "</table>\n",
              "<p>37249 rows × 4 columns</p>\n",
              "</div>"
            ],
            "text/plain": [
              "                                           clean_comment  ...  positive\n",
              "0      well many people use these words differently y...  ...         1\n",
              "1      this does not need controversial especially sc...  ...         1\n",
              "2                                            you don say  ...         0\n",
              "3       hindu don eat beef love cattle and see nothin...  ...         1\n",
              "4       naseeb wala ass context modi speaking petrol ...  ...         0\n",
              "...                                                  ...  ...       ...\n",
              "37244                                 futuristic battles  ...         0\n",
              "37245  pak presiden republik indonesia bapak jokowi d...  ...         0\n",
              "37246  modi goverment did this not him alone individu...  ...         0\n",
              "37247   friends notes events sabhi recovery kar sakte...  ...         0\n",
              "37248   the other hand demonitization and follow meas...  ...         0\n",
              "\n",
              "[37249 rows x 4 columns]"
            ]
          },
          "metadata": {
            "tags": []
          },
          "execution_count": 8
        }
      ]
    },
    {
      "cell_type": "code",
      "metadata": {
        "id": "nPcy8coaOIav"
      },
      "source": [
        "# Splitting the dataset\n",
        "from sklearn.model_selection import train_test_split\n",
        "from tensorflow.keras.preprocessing.text import Tokenizer\n",
        "from tensorflow.keras.preprocessing.sequence import pad_sequences\n",
        "\n",
        "x = added_df[\"clean_comment\"].values\n",
        "y = added_df.iloc[:, 1:4].values\n",
        "\n",
        "x_train, x_test, y_train, y_test = train_test_split(x, y, test_size=0.2)\n",
        "\n",
        "# Tokenizing the dataset\n",
        "tokenizer = Tokenizer(num_words=3800, oov_token=\"oov\")\n",
        "tokenizer.fit_on_texts(x_train)\n",
        "tokenizer.fit_on_texts(x_test)\n",
        "\n",
        "train_sequences = tokenizer.texts_to_sequences(x_train)\n",
        "test_sequences = tokenizer.texts_to_sequences(x_test)\n",
        "\n",
        "# Padding the dataset sequences\n",
        "padded_train = pad_sequences(train_sequences)\n",
        "padded_test = pad_sequences(test_sequences)"
      ],
      "execution_count": null,
      "outputs": []
    },
    {
      "cell_type": "markdown",
      "metadata": {
        "id": "xE1XnmJApy1k"
      },
      "source": [
        "##MODEL TUNING AND STRUCTURING"
      ]
    },
    {
      "cell_type": "code",
      "metadata": {
        "id": "wZFgR25DZL-Z",
        "colab": {
          "base_uri": "https://localhost:8080/",
          "height": 782
        },
        "outputId": "c9fdeed4-c400-434f-fc01-acd41e0ed56a"
      },
      "source": [
        "import tensorflow as tf\n",
        "from tensorflow.keras.optimizers import Adam\n",
        "\n",
        "# Implementing callback\n",
        "class MyCallback(tf.keras.callbacks.Callback):\n",
        "  def on_epoch_end(self, epoch, logs={}):\n",
        "    if (logs.get(\"accuracy\") > 0.915) and (logs.get(\"val_accuracy\") > 0.915):\n",
        "      print(\"\\nModel training & validation process has reached more than 91% of accuracy!\")\n",
        "      self.model.stop_training = True\n",
        "\n",
        "callbacks = MyCallback()\n",
        "\n",
        "# Building and structuring the neural model\n",
        "model = tf.keras.Sequential([\n",
        "        tf.keras.layers.Embedding(input_dim=3800, output_dim=16),\n",
        "        tf.keras.layers.LSTM(32),\n",
        "        tf.keras.layers.Dense(16, activation=\"relu\"),\n",
        "        tf.keras.layers.Dropout(0.5),\n",
        "        tf.keras.layers.Dense(16, activation=\"relu\"),\n",
        "        tf.keras.layers.Dropout(0.5),\n",
        "        tf.keras.layers.Dense(3, activation=\"softmax\")\n",
        "])\n",
        "\n",
        "model.summary()  # Reviewing the neural model architecture\n",
        "\n",
        "model.compile(loss=\"categorical_crossentropy\", optimizer=Adam(), metrics=[\"accuracy\"])\n",
        "\n",
        "# Training the neural model\n",
        "history = model.fit(padded_train, y_train, validation_data=(padded_test, y_test), \n",
        "                    epochs=30, callbacks=[callbacks], verbose=2)"
      ],
      "execution_count": null,
      "outputs": [
        {
          "output_type": "stream",
          "text": [
            "Model: \"sequential_3\"\n",
            "_________________________________________________________________\n",
            "Layer (type)                 Output Shape              Param #   \n",
            "=================================================================\n",
            "embedding_3 (Embedding)      (None, None, 16)          60800     \n",
            "_________________________________________________________________\n",
            "lstm_3 (LSTM)                (None, 32)                6272      \n",
            "_________________________________________________________________\n",
            "dense_9 (Dense)              (None, 16)                528       \n",
            "_________________________________________________________________\n",
            "dropout_6 (Dropout)          (None, 16)                0         \n",
            "_________________________________________________________________\n",
            "dense_10 (Dense)             (None, 16)                272       \n",
            "_________________________________________________________________\n",
            "dropout_7 (Dropout)          (None, 16)                0         \n",
            "_________________________________________________________________\n",
            "dense_11 (Dense)             (None, 3)                 51        \n",
            "=================================================================\n",
            "Total params: 67,923\n",
            "Trainable params: 67,923\n",
            "Non-trainable params: 0\n",
            "_________________________________________________________________\n",
            "Epoch 1/30\n",
            "932/932 - 47s - loss: 0.8292 - accuracy: 0.6426 - val_loss: 0.5705 - val_accuracy: 0.7369\n",
            "Epoch 2/30\n",
            "932/932 - 46s - loss: 0.5737 - accuracy: 0.7631 - val_loss: 0.4763 - val_accuracy: 0.8129\n",
            "Epoch 3/30\n",
            "932/932 - 46s - loss: 0.5847 - accuracy: 0.7686 - val_loss: 0.5169 - val_accuracy: 0.7826\n",
            "Epoch 4/30\n",
            "932/932 - 46s - loss: 0.5463 - accuracy: 0.7835 - val_loss: 0.4409 - val_accuracy: 0.8726\n",
            "Epoch 5/30\n",
            "932/932 - 46s - loss: 0.4417 - accuracy: 0.8454 - val_loss: 0.3571 - val_accuracy: 0.8942\n",
            "Epoch 6/30\n",
            "932/932 - 46s - loss: 0.3701 - accuracy: 0.8843 - val_loss: 0.3404 - val_accuracy: 0.8968\n",
            "Epoch 7/30\n",
            "932/932 - 46s - loss: 0.3253 - accuracy: 0.9054 - val_loss: 0.3280 - val_accuracy: 0.9094\n",
            "Epoch 8/30\n",
            "932/932 - 46s - loss: 0.2966 - accuracy: 0.9191 - val_loss: 0.3305 - val_accuracy: 0.9085\n",
            "Epoch 9/30\n",
            "932/932 - 46s - loss: 0.2704 - accuracy: 0.9239 - val_loss: 0.3696 - val_accuracy: 0.9082\n",
            "Epoch 10/30\n",
            "932/932 - 46s - loss: 0.3027 - accuracy: 0.9044 - val_loss: 0.3463 - val_accuracy: 0.9060\n",
            "Epoch 11/30\n",
            "Model training & validation process has reached more than 91% of accuracy!\n",
            "932/932 - 48s - loss: 0.2452 - accuracy: 0.9314 - val_loss: 0.4048 - val_accuracy: 0.9174\n"
          ],
          "name": "stdout"
        }
      ]
    },
    {
      "cell_type": "markdown",
      "metadata": {
        "id": "4iup9pEJmPXT"
      },
      "source": [
        "##MODEL LOSS AND ACCURACY VISUALIZATION"
      ]
    },
    {
      "cell_type": "markdown",
      "metadata": {
        "id": "9ek3LrdpvCZW"
      },
      "source": [
        "###LOSS VISUALIZATION"
      ]
    },
    {
      "cell_type": "code",
      "metadata": {
        "id": "mrtvs1nimAOt",
        "colab": {
          "base_uri": "https://localhost:8080/",
          "height": 295
        },
        "outputId": "b1c3cc84-1204-4f9e-c46b-d776cfe2843f"
      },
      "source": [
        "# Plot training and validation loss during learning process\n",
        "import matplotlib.pyplot as plt\n",
        "\n",
        "plt.plot(history.history[\"loss\"], marker=\"o\", label=\"Training Data\")\n",
        "plt.plot(history.history[\"val_loss\"], marker=\"o\", label=\"Validation Data\")\n",
        "plt.title(\"LOSS GRAPH\", weight=\"bold\", color=\"white\")\n",
        "plt.xlabel(\"Epoch\", color=\"white\")\n",
        "plt.ylabel(\"Loss\", color=\"white\")\n",
        "plt.tick_params(axis='x', colors='white')\n",
        "plt.tick_params(axis='y', colors='white')\n",
        "plt.grid(b=1, axis=\"y\")\n",
        "plt.legend()\n",
        "\n",
        "plt.show()"
      ],
      "execution_count": null,
      "outputs": [
        {
          "output_type": "display_data",
          "data": {
            "image/png": "[encoded data removed]",
            "text/plain": [
              "<Figure size 432x288 with 1 Axes>"
            ]
          },
          "metadata": {
            "tags": [],
            "needs_background": "dark"
          }
        }
      ]
    },
    {
      "cell_type": "markdown",
      "metadata": {
        "id": "AHFJX3Ugu6pW"
      },
      "source": [
        "###ACCURACY VISUALIZATION"
      ]
    },
    {
      "cell_type": "code",
      "metadata": {
        "id": "yUDk7vejhpHQ",
        "colab": {
          "base_uri": "https://localhost:8080/",
          "height": 295
        },
        "outputId": "cfa3b4be-c652-4f30-c697-81beee5a0880"
      },
      "source": [
        "# Plot training and validation accuracy during learning process\n",
        "import matplotlib.pyplot as plt\n",
        "\n",
        "plt.plot(history.history[\"accuracy\"], marker=\"o\", label=\"Training Data\")\n",
        "plt.plot(history.history[\"val_accuracy\"], marker=\"o\", label=\"Validation Data\")\n",
        "plt.title(\"ACCURACY GRAPH\", weight=\"bold\", color=\"white\")\n",
        "plt.xlabel(\"Epoch\", color=\"white\")\n",
        "plt.ylabel(\"Accuracy\", color=\"white\")\n",
        "plt.tick_params(axis=\"x\", colors=\"white\")\n",
        "plt.tick_params(axis=\"y\", colors=\"white\")\n",
        "plt.grid(b=1, axis=\"y\")\n",
        "plt.legend()\n",
        "\n",
        "plt.show()"
      ],
      "execution_count": null,
      "outputs": [
        {
          "output_type": "display_data",
          "data": {
            "image/png": "[encoded data removed]",
            "text/plain": [
              "<Figure size 432x288 with 1 Axes>"
            ]
          },
          "metadata": {
            "tags": [],
            "needs_background": "dark"
          }
        }
      ]
    },
    {
      "cell_type": "markdown",
      "metadata": {
        "id": "d9NjGMOHbtff"
      },
      "source": [
        "##REFERENCE"
      ]
    },
    {
      "cell_type": "markdown",
      "metadata": {
        "id": "7CV0V8I1bxVi"
      },
      "source": [
        "###Dataset source: https://www.kaggle.com/cosmos98/twitter-and-reddit-sentimental-analysis-dataset?select=Twitter_Data.csv"
      ]
    }
  ]
}