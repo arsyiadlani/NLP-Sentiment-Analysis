{
  "nbformat": 4,
  "nbformat_minor": 0,
  "metadata": {
    "colab": {
      "name": "NLP Submission_Arsyi Adlani.ipynb",
      "provenance": [],
      "collapsed_sections": [],
      "authorship_tag": "ABX9TyOnyVzs5fyL6Cm3RlnX3gdZ",
      "include_colab_link": true
    },
    "kernelspec": {
      "name": "python3",
      "display_name": "Python 3"
    },
    "accelerator": "GPU"
  },
  "cells": [
    {
      "cell_type": "markdown",
      "metadata": {
        "id": "view-in-github",
        "colab_type": "text"
      },
      "source": [
        "<a href=\"https://colab.research.google.com/github/arsyiadlani/Sentiment-Analysis/blob/main/reddit_sentiment_analysis.ipynb\" target=\"_parent\"><img src=\"https://colab.research.google.com/assets/colab-badge.svg\" alt=\"Open In Colab\"/></a>"
      ]
    },
    {
      "cell_type": "markdown",
      "metadata": {
        "id": "GFJCcZyTs6ML"
      },
      "source": [
        "##DATA RETRIEVING"
      ]
    },
    {
      "cell_type": "code",
      "metadata": {
        "id": "xvrO9BAMcmIs",
        "colab": {
          "base_uri": "https://localhost:8080/",
          "height": 122
        },
        "outputId": "02aa1b20-9e6c-4918-c5a8-c604e47ac3bd"
      },
      "source": [
        "from google.colab import drive\n",
        "\n",
        "drive.mount(\"/content/drive/\")"
      ],
      "execution_count": null,
      "outputs": [
        {
          "output_type": "stream",
          "text": [
            "Go to this URL in a browser: https://accounts.google.com/o/oauth2/auth?client_id=947318989803-6bn6qk8qdgf4n4g3pfee6491hc0brc4i.apps.googleusercontent.com&redirect_uri=urn%3aietf%3awg%3aoauth%3a2.0%3aoob&scope=email%20https%3a%2f%2fwww.googleapis.com%2fauth%2fdocs.test%20https%3a%2f%2fwww.googleapis.com%2fauth%2fdrive%20https%3a%2f%2fwww.googleapis.com%2fauth%2fdrive.photos.readonly%20https%3a%2f%2fwww.googleapis.com%2fauth%2fpeopleapi.readonly&response_type=code\n",
            "\n",
            "Enter your authorization code:\n",
            "··········\n",
            "Mounted at /content/drive/\n"
          ],
          "name": "stdout"
        }
      ]
    },
    {
      "cell_type": "code",
      "metadata": {
        "id": "p6JrPObwc2_B",
        "colab": {
          "base_uri": "https://localhost:8080/",
          "height": 419
        },
        "outputId": "e2a4eaa3-d2cf-4f6d-b69e-beae6d406739"
      },
      "source": [
        "import pandas as pd\n",
        "\n",
        "df = pd.read_csv(\"/content/drive/My Drive/Twitter_Data.csv\")\n",
        "df"
      ],
      "execution_count": null,
      "outputs": [
        {
          "output_type": "execute_result",
          "data": {
            "text/html": [
              "<div>\n",
              "<style scoped>\n",
              "    .dataframe tbody tr th:only-of-type {\n",
              "        vertical-align: middle;\n",
              "    }\n",
              "\n",
              "    .dataframe tbody tr th {\n",
              "        vertical-align: top;\n",
              "    }\n",
              "\n",
              "    .dataframe thead th {\n",
              "        text-align: right;\n",
              "    }\n",
              "</style>\n",
              "<table border=\"1\" class=\"dataframe\">\n",
              "  <thead>\n",
              "    <tr style=\"text-align: right;\">\n",
              "      <th></th>\n",
              "      <th>clean_text</th>\n",
              "      <th>category</th>\n",
              "    </tr>\n",
              "  </thead>\n",
              "  <tbody>\n",
              "    <tr>\n",
              "      <th>0</th>\n",
              "      <td>when modi promised “minimum government maximum...</td>\n",
              "      <td>-1.0</td>\n",
              "    </tr>\n",
              "    <tr>\n",
              "      <th>1</th>\n",
              "      <td>talk all the nonsense and continue all the dra...</td>\n",
              "      <td>0.0</td>\n",
              "    </tr>\n",
              "    <tr>\n",
              "      <th>2</th>\n",
              "      <td>what did just say vote for modi  welcome bjp t...</td>\n",
              "      <td>1.0</td>\n",
              "    </tr>\n",
              "    <tr>\n",
              "      <th>3</th>\n",
              "      <td>asking his supporters prefix chowkidar their n...</td>\n",
              "      <td>1.0</td>\n",
              "    </tr>\n",
              "    <tr>\n",
              "      <th>4</th>\n",
              "      <td>answer who among these the most powerful world...</td>\n",
              "      <td>1.0</td>\n",
              "    </tr>\n",
              "    <tr>\n",
              "      <th>...</th>\n",
              "      <td>...</td>\n",
              "      <td>...</td>\n",
              "    </tr>\n",
              "    <tr>\n",
              "      <th>162975</th>\n",
              "      <td>why these 456 crores paid neerav modi not reco...</td>\n",
              "      <td>-1.0</td>\n",
              "    </tr>\n",
              "    <tr>\n",
              "      <th>162976</th>\n",
              "      <td>dear rss terrorist payal gawar what about modi...</td>\n",
              "      <td>-1.0</td>\n",
              "    </tr>\n",
              "    <tr>\n",
              "      <th>162977</th>\n",
              "      <td>did you cover her interaction forum where she ...</td>\n",
              "      <td>0.0</td>\n",
              "    </tr>\n",
              "    <tr>\n",
              "      <th>162978</th>\n",
              "      <td>there big project came into india modi dream p...</td>\n",
              "      <td>0.0</td>\n",
              "    </tr>\n",
              "    <tr>\n",
              "      <th>162979</th>\n",
              "      <td>have you ever listen about like gurukul where ...</td>\n",
              "      <td>1.0</td>\n",
              "    </tr>\n",
              "  </tbody>\n",
              "</table>\n",
              "<p>162980 rows × 2 columns</p>\n",
              "</div>"
            ],
            "text/plain": [
              "                                               clean_text  category\n",
              "0       when modi promised “minimum government maximum...      -1.0\n",
              "1       talk all the nonsense and continue all the dra...       0.0\n",
              "2       what did just say vote for modi  welcome bjp t...       1.0\n",
              "3       asking his supporters prefix chowkidar their n...       1.0\n",
              "4       answer who among these the most powerful world...       1.0\n",
              "...                                                   ...       ...\n",
              "162975  why these 456 crores paid neerav modi not reco...      -1.0\n",
              "162976  dear rss terrorist payal gawar what about modi...      -1.0\n",
              "162977  did you cover her interaction forum where she ...       0.0\n",
              "162978  there big project came into india modi dream p...       0.0\n",
              "162979  have you ever listen about like gurukul where ...       1.0\n",
              "\n",
              "[162980 rows x 2 columns]"
            ]
          },
          "metadata": {
            "tags": []
          },
          "execution_count": 2
        }
      ]
    },
    {
      "cell_type": "markdown",
      "metadata": {
        "id": "NO0xgAWbtBH_"
      },
      "source": [
        "##DATA PREPROCESSING"
      ]
    },
    {
      "cell_type": "code",
      "metadata": {
        "id": "UDiovqSMee7Z",
        "colab": {
          "base_uri": "https://localhost:8080/",
          "height": 34
        },
        "outputId": "d2674eb5-8d89-48e2-a90c-1344f5230134"
      },
      "source": [
        "# Searching unique values of \"category\" column to determine model classes\n",
        "df[\"category\"].unique()"
      ],
      "execution_count": null,
      "outputs": [
        {
          "output_type": "execute_result",
          "data": {
            "text/plain": [
              "array([-1.,  0.,  1., nan])"
            ]
          },
          "metadata": {
            "tags": []
          },
          "execution_count": 3
        }
      ]
    },
    {
      "cell_type": "code",
      "metadata": {
        "id": "_dN4pKWJdLYd",
        "colab": {
          "base_uri": "https://localhost:8080/",
          "height": 68
        },
        "outputId": "1839fb38-cb30-4d71-f5d9-02641ac01ea2"
      },
      "source": [
        "# Checking for null values in the dataset\n",
        "df.isnull().sum()"
      ],
      "execution_count": null,
      "outputs": [
        {
          "output_type": "execute_result",
          "data": {
            "text/plain": [
              "clean_text    4\n",
              "category      7\n",
              "dtype: int64"
            ]
          },
          "metadata": {
            "tags": []
          },
          "execution_count": 4
        }
      ]
    },
    {
      "cell_type": "code",
      "metadata": {
        "id": "uCmw4RZldV6o",
        "colab": {
          "base_uri": "https://localhost:8080/",
          "height": 85
        },
        "outputId": "be4cc1fc-652b-4f54-e274-92ebcc2395c5"
      },
      "source": [
        "# Handling null values in the dataset\n",
        "df = df[(df[\"clean_text\"].notna()) & (df[\"category\"].notna())]  # Selecting the non-null value only\n",
        "print(df.isnull().sum())\n",
        "print(df.shape)"
      ],
      "execution_count": null,
      "outputs": [
        {
          "output_type": "stream",
          "text": [
            "clean_text    0\n",
            "category      0\n",
            "dtype: int64\n",
            "(162969, 2)\n"
          ],
          "name": "stdout"
        }
      ]
    },
    {
      "cell_type": "code",
      "metadata": {
        "id": "tf_QLplrfHeO",
        "colab": {
          "base_uri": "https://localhost:8080/",
          "height": 34
        },
        "outputId": "323b2c3c-14a1-40b0-9972-1f6d5ea0fa3f"
      },
      "source": [
        "# Determining the algorithm for the neural model\n",
        "import numpy as np\n",
        "\n",
        "sample_num = 162969  # Number of samples in the dataset\n",
        "words_num = []\n",
        "\n",
        "for sentence in df[\"clean_text\"].values:\n",
        "  len_words = len(sentence.split())\n",
        "  words_num.append(len_words)\n",
        "\n",
        "words_per_sample = np.median(words_num)  # Median value of the number of words in a sample\n",
        "print(sample_num / words_per_sample)\n",
        "\n",
        "\"\"\"Because the value of total sample number divided by median of the number of words \n",
        "in every sample is >1500, we can safely conclude that this particular dataset is \n",
        "suitable for NLP analysis using embedding vectors technique.\n",
        "\"\"\""
      ],
      "execution_count": null,
      "outputs": [
        {
          "output_type": "stream",
          "text": [
            "9053.833333333334\n"
          ],
          "name": "stdout"
        }
      ]
    },
    {
      "cell_type": "code",
      "metadata": {
        "id": "Jj_9HPG6ewdt",
        "colab": {
          "base_uri": "https://localhost:8080/",
          "height": 419
        },
        "outputId": "f6c9f57e-4c9f-41c7-a7ec-f1486dc604ba"
      },
      "source": [
        "# Labeling the dataset\n",
        "df[\"category\"].replace({-1.0:\"negative\", 0.0:\"neutral\", 1.0:\"positive\"})\n",
        "df"
      ],
      "execution_count": null,
      "outputs": [
        {
          "output_type": "execute_result",
          "data": {
            "text/html": [
              "<div>\n",
              "<style scoped>\n",
              "    .dataframe tbody tr th:only-of-type {\n",
              "        vertical-align: middle;\n",
              "    }\n",
              "\n",
              "    .dataframe tbody tr th {\n",
              "        vertical-align: top;\n",
              "    }\n",
              "\n",
              "    .dataframe thead th {\n",
              "        text-align: right;\n",
              "    }\n",
              "</style>\n",
              "<table border=\"1\" class=\"dataframe\">\n",
              "  <thead>\n",
              "    <tr style=\"text-align: right;\">\n",
              "      <th></th>\n",
              "      <th>clean_text</th>\n",
              "      <th>category</th>\n",
              "    </tr>\n",
              "  </thead>\n",
              "  <tbody>\n",
              "    <tr>\n",
              "      <th>0</th>\n",
              "      <td>when modi promised “minimum government maximum...</td>\n",
              "      <td>negative</td>\n",
              "    </tr>\n",
              "    <tr>\n",
              "      <th>1</th>\n",
              "      <td>talk all the nonsense and continue all the dra...</td>\n",
              "      <td>neutral</td>\n",
              "    </tr>\n",
              "    <tr>\n",
              "      <th>2</th>\n",
              "      <td>what did just say vote for modi  welcome bjp t...</td>\n",
              "      <td>positive</td>\n",
              "    </tr>\n",
              "    <tr>\n",
              "      <th>3</th>\n",
              "      <td>asking his supporters prefix chowkidar their n...</td>\n",
              "      <td>positive</td>\n",
              "    </tr>\n",
              "    <tr>\n",
              "      <th>4</th>\n",
              "      <td>answer who among these the most powerful world...</td>\n",
              "      <td>positive</td>\n",
              "    </tr>\n",
              "    <tr>\n",
              "      <th>...</th>\n",
              "      <td>...</td>\n",
              "      <td>...</td>\n",
              "    </tr>\n",
              "    <tr>\n",
              "      <th>162975</th>\n",
              "      <td>why these 456 crores paid neerav modi not reco...</td>\n",
              "      <td>negative</td>\n",
              "    </tr>\n",
              "    <tr>\n",
              "      <th>162976</th>\n",
              "      <td>dear rss terrorist payal gawar what about modi...</td>\n",
              "      <td>negative</td>\n",
              "    </tr>\n",
              "    <tr>\n",
              "      <th>162977</th>\n",
              "      <td>did you cover her interaction forum where she ...</td>\n",
              "      <td>neutral</td>\n",
              "    </tr>\n",
              "    <tr>\n",
              "      <th>162978</th>\n",
              "      <td>there big project came into india modi dream p...</td>\n",
              "      <td>neutral</td>\n",
              "    </tr>\n",
              "    <tr>\n",
              "      <th>162979</th>\n",
              "      <td>have you ever listen about like gurukul where ...</td>\n",
              "      <td>positive</td>\n",
              "    </tr>\n",
              "  </tbody>\n",
              "</table>\n",
              "<p>162969 rows × 2 columns</p>\n",
              "</div>"
            ],
            "text/plain": [
              "                                               clean_text  category\n",
              "0       when modi promised “minimum government maximum...  negative\n",
              "1       talk all the nonsense and continue all the dra...   neutral\n",
              "2       what did just say vote for modi  welcome bjp t...  positive\n",
              "3       asking his supporters prefix chowkidar their n...  positive\n",
              "4       answer who among these the most powerful world...  positive\n",
              "...                                                   ...       ...\n",
              "162975  why these 456 crores paid neerav modi not reco...  negative\n",
              "162976  dear rss terrorist payal gawar what about modi...  negative\n",
              "162977  did you cover her interaction forum where she ...   neutral\n",
              "162978  there big project came into india modi dream p...   neutral\n",
              "162979  have you ever listen about like gurukul where ...  positive\n",
              "\n",
              "[162969 rows x 2 columns]"
            ]
          },
          "metadata": {
            "tags": []
          },
          "execution_count": 11
        }
      ]
    },
    {
      "cell_type": "code",
      "metadata": {
        "id": "SEJCq0sQg34u",
        "colab": {
          "base_uri": "https://localhost:8080/",
          "height": 419
        },
        "outputId": "a3c41c26-7fbd-41f1-c76c-7f871033f641"
      },
      "source": [
        "# One-hot-encoding the dataset\n",
        "sentiment_category = pd.get_dummies(df[\"category\"])\n",
        "added_df = pd.concat([df, sentiment_category], axis=1).drop(columns=\"category\")\n",
        "added_df = added_df.sample(frac=1).reset_index(drop=True)  # Shuffling the dataset\n",
        "added_df"
      ],
      "execution_count": null,
      "outputs": [
        {
          "output_type": "execute_result",
          "data": {
            "text/html": [
              "<div>\n",
              "<style scoped>\n",
              "    .dataframe tbody tr th:only-of-type {\n",
              "        vertical-align: middle;\n",
              "    }\n",
              "\n",
              "    .dataframe tbody tr th {\n",
              "        vertical-align: top;\n",
              "    }\n",
              "\n",
              "    .dataframe thead th {\n",
              "        text-align: right;\n",
              "    }\n",
              "</style>\n",
              "<table border=\"1\" class=\"dataframe\">\n",
              "  <thead>\n",
              "    <tr style=\"text-align: right;\">\n",
              "      <th></th>\n",
              "      <th>clean_text</th>\n",
              "      <th>negative</th>\n",
              "      <th>neutral</th>\n",
              "      <th>positive</th>\n",
              "    </tr>\n",
              "  </thead>\n",
              "  <tbody>\n",
              "    <tr>\n",
              "      <th>0</th>\n",
              "      <td>alas you people had warned before 2014 would h...</td>\n",
              "      <td>1</td>\n",
              "      <td>0</td>\n",
              "      <td>0</td>\n",
              "    </tr>\n",
              "    <tr>\n",
              "      <th>1</th>\n",
              "      <td>all the tainted scams ridden leaders are the d...</td>\n",
              "      <td>0</td>\n",
              "      <td>0</td>\n",
              "      <td>1</td>\n",
              "    </tr>\n",
              "    <tr>\n",
              "      <th>2</th>\n",
              "      <td>beg disagree ’ the congress that’ dragging the...</td>\n",
              "      <td>0</td>\n",
              "      <td>0</td>\n",
              "      <td>1</td>\n",
              "    </tr>\n",
              "    <tr>\n",
              "      <th>3</th>\n",
              "      <td>why are you even discussing politics then ever...</td>\n",
              "      <td>1</td>\n",
              "      <td>0</td>\n",
              "      <td>0</td>\n",
              "    </tr>\n",
              "    <tr>\n",
              "      <th>4</th>\n",
              "      <td>pakistan nothing comparison india but after mo...</td>\n",
              "      <td>0</td>\n",
              "      <td>0</td>\n",
              "      <td>1</td>\n",
              "    </tr>\n",
              "    <tr>\n",
              "      <th>...</th>\n",
              "      <td>...</td>\n",
              "      <td>...</td>\n",
              "      <td>...</td>\n",
              "      <td>...</td>\n",
              "    </tr>\n",
              "    <tr>\n",
              "      <th>162964</th>\n",
              "      <td>india successfully tests antisatellite weapon ...</td>\n",
              "      <td>0</td>\n",
              "      <td>0</td>\n",
              "      <td>1</td>\n",
              "    </tr>\n",
              "    <tr>\n",
              "      <th>162965</th>\n",
              "      <td>shuja got political asylum and not asylum for ...</td>\n",
              "      <td>1</td>\n",
              "      <td>0</td>\n",
              "      <td>0</td>\n",
              "    </tr>\n",
              "    <tr>\n",
              "      <th>162966</th>\n",
              "      <td>doesnt matter what says its all about who less...</td>\n",
              "      <td>0</td>\n",
              "      <td>0</td>\n",
              "      <td>1</td>\n",
              "    </tr>\n",
              "    <tr>\n",
              "      <th>162967</th>\n",
              "      <td>aaps shri harinder shinh khalsa joined the bjp</td>\n",
              "      <td>0</td>\n",
              "      <td>1</td>\n",
              "      <td>0</td>\n",
              "    </tr>\n",
              "    <tr>\n",
              "      <th>162968</th>\n",
              "      <td>the people who are thinking that modi alone ju...</td>\n",
              "      <td>0</td>\n",
              "      <td>0</td>\n",
              "      <td>1</td>\n",
              "    </tr>\n",
              "  </tbody>\n",
              "</table>\n",
              "<p>162969 rows × 4 columns</p>\n",
              "</div>"
            ],
            "text/plain": [
              "                                               clean_text  ...  positive\n",
              "0       alas you people had warned before 2014 would h...  ...         0\n",
              "1       all the tainted scams ridden leaders are the d...  ...         1\n",
              "2       beg disagree ’ the congress that’ dragging the...  ...         1\n",
              "3       why are you even discussing politics then ever...  ...         0\n",
              "4       pakistan nothing comparison india but after mo...  ...         1\n",
              "...                                                   ...  ...       ...\n",
              "162964  india successfully tests antisatellite weapon ...  ...         1\n",
              "162965  shuja got political asylum and not asylum for ...  ...         0\n",
              "162966  doesnt matter what says its all about who less...  ...         1\n",
              "162967    aaps shri harinder shinh khalsa joined the bjp   ...         0\n",
              "162968  the people who are thinking that modi alone ju...  ...         1\n",
              "\n",
              "[162969 rows x 4 columns]"
            ]
          },
          "metadata": {
            "tags": []
          },
          "execution_count": 12
        }
      ]
    },
    {
      "cell_type": "code",
      "metadata": {
        "id": "pv5GZ9prhv23"
      },
      "source": [
        "# Splitting the dataset\n",
        "from sklearn.model_selection import train_test_split\n",
        "from tensorflow.keras.preprocessing.text import Tokenizer\n",
        "from tensorflow.keras.preprocessing.sequence import pad_sequences\n",
        "\n",
        "x = added_df[\"clean_text\"].values\n",
        "y = added_df.iloc[:, 1:4].values\n",
        "\n",
        "x_train, x_test, y_train, y_test = train_test_split(x, y, test_size=0.2)\n",
        "\n",
        "# Tokenizing the dataset\n",
        "tokenizer = Tokenizer(num_words=9000, oov_token=\"oov\")\n",
        "tokenizer.fit_on_texts(x_train)\n",
        "tokenizer.fit_on_texts(x_test)\n",
        "\n",
        "train_sequences = tokenizer.texts_to_sequences(x_train)\n",
        "test_sequences = tokenizer.texts_to_sequences(x_test)\n",
        "\n",
        "# Padding the dataset sequences\n",
        "padded_train = pad_sequences(train_sequences)\n",
        "padded_test = pad_sequences(test_sequences)"
      ],
      "execution_count": null,
      "outputs": []
    },
    {
      "cell_type": "markdown",
      "metadata": {
        "id": "IZqjwGRMutsx"
      },
      "source": [
        "##MODEL TUNING AND STRUCTURING"
      ]
    },
    {
      "cell_type": "code",
      "metadata": {
        "id": "tTzIFdEpjOuK",
        "colab": {
          "base_uri": "https://localhost:8080/",
          "height": 663
        },
        "outputId": "afe5d258-393d-4cca-9bfd-2bd89151882a"
      },
      "source": [
        "import tensorflow as tf\n",
        "from tensorflow.keras.optimizers import Adam\n",
        "\n",
        "# Implementing callback\n",
        "class MyCallback(tf.keras.callbacks.Callback):\n",
        "  def on_epoch_end(self, epoch, logs={}):\n",
        "    if ((logs.get(\"accuracy\") > 0.96) and (logs.get(\"val_accuracy\") > 0.96)):\n",
        "      print(\"\\nModel training and validation process has reached more than 96% of accuracy!\")\n",
        "      self.model.stop_training = True\n",
        "\n",
        "callbacks = MyCallback()\n",
        "\n",
        "# Building and structuring the neural model\n",
        "model = tf.keras.Sequential([\n",
        "        tf.keras.layers.Embedding(input_dim=9000, output_dim=16),\n",
        "        tf.keras.layers.LSTM(64),\n",
        "        tf.keras.layers.Dense(16, activation=\"relu\"),\n",
        "        tf.keras.layers.Dropout(0.5),\n",
        "        tf.keras.layers.Dense(16, activation=\"relu\"),\n",
        "        tf.keras.layers.Dropout(0.5),\n",
        "        tf.keras.layers.Dense(3, activation=\"softmax\")\n",
        "])\n",
        "\n",
        "model.summary()  # Reviewing the neural model architecture\n",
        "\n",
        "model.compile(loss=\"categorical_crossentropy\", optimizer=Adam(), metrics=[\"accuracy\"])\n",
        "\n",
        "# Training the neural model\n",
        "history = model.fit(padded_train, y_train, validation_data=(padded_test, y_test), \n",
        "          epochs=30, callbacks=[callbacks], verbose=2)"
      ],
      "execution_count": null,
      "outputs": [
        {
          "output_type": "stream",
          "text": [
            "Model: \"sequential_1\"\n",
            "_________________________________________________________________\n",
            "Layer (type)                 Output Shape              Param #   \n",
            "=================================================================\n",
            "embedding_1 (Embedding)      (None, None, 16)          144000    \n",
            "_________________________________________________________________\n",
            "lstm_1 (LSTM)                (None, 64)                20736     \n",
            "_________________________________________________________________\n",
            "dense_3 (Dense)              (None, 16)                1040      \n",
            "_________________________________________________________________\n",
            "dropout_2 (Dropout)          (None, 16)                0         \n",
            "_________________________________________________________________\n",
            "dense_4 (Dense)              (None, 16)                272       \n",
            "_________________________________________________________________\n",
            "dropout_3 (Dropout)          (None, 16)                0         \n",
            "_________________________________________________________________\n",
            "dense_5 (Dense)              (None, 3)                 51        \n",
            "=================================================================\n",
            "Total params: 166,099\n",
            "Trainable params: 166,099\n",
            "Non-trainable params: 0\n",
            "_________________________________________________________________\n",
            "Epoch 1/30\n",
            "4075/4075 - 30s - loss: 0.5004 - accuracy: 0.8138 - val_loss: 0.1888 - val_accuracy: 0.9436\n",
            "Epoch 2/30\n",
            "4075/4075 - 29s - loss: 0.2417 - accuracy: 0.9335 - val_loss: 0.1473 - val_accuracy: 0.9627\n",
            "Epoch 3/30\n",
            "4075/4075 - 29s - loss: 0.2028 - accuracy: 0.9464 - val_loss: 0.1342 - val_accuracy: 0.9654\n",
            "Epoch 4/30\n",
            "4075/4075 - 29s - loss: 0.1812 - accuracy: 0.9526 - val_loss: 0.1396 - val_accuracy: 0.9681\n",
            "Epoch 5/30\n",
            "4075/4075 - 29s - loss: 0.1658 - accuracy: 0.9571 - val_loss: 0.1671 - val_accuracy: 0.9670\n",
            "Epoch 6/30\n",
            "4075/4075 - 29s - loss: 0.1586 - accuracy: 0.9587 - val_loss: 0.1619 - val_accuracy: 0.9683\n",
            "Epoch 7/30\n",
            "\n",
            "Model training and validation process has reached more than 96% of accuracy!\n",
            "4075/4075 - 29s - loss: 0.1435 - accuracy: 0.9604 - val_loss: 0.1830 - val_accuracy: 0.9639\n"
          ],
          "name": "stdout"
        }
      ]
    },
    {
      "cell_type": "markdown",
      "metadata": {
        "id": "I2obp7X6vHtF"
      },
      "source": [
        "##MODEL LOSS AND ACCURACY VISUALIZATION"
      ]
    },
    {
      "cell_type": "markdown",
      "metadata": {
        "id": "LY0yr6wyvLHi"
      },
      "source": [
        "###LOSS VISUALIZATION"
      ]
    },
    {
      "cell_type": "code",
      "metadata": {
        "id": "wfiVw8IilesR",
        "colab": {
          "base_uri": "https://localhost:8080/",
          "height": 295
        },
        "outputId": "e7ded429-410d-4977-a162-76f706827203"
      },
      "source": [
        "# Plot training and validation loss during learning process\n",
        "import matplotlib.pyplot as plt\n",
        "\n",
        "plt.plot(history.history[\"loss\"], marker=\"o\", label=\"Training Data\")\n",
        "plt.plot(history.history[\"val_loss\"], marker=\"o\", label=\"Validation Data\")\n",
        "plt.title(\"LOSS GRAPH\", weight=\"bold\")\n",
        "plt.xlabel(\"Epoch\")\n",
        "plt.ylabel(\"Loss\")\n",
        "plt.grid(b=1, axis=\"y\")\n",
        "plt.legend()\n",
        "\n",
        "plt.show()"
      ],
      "execution_count": null,
      "outputs": [
        {
          "output_type": "display_data",
          "data": {
            "image/png": "[encoded data removed]",
            "text/plain": [
              "<Figure size 432x288 with 1 Axes>"
            ]
          },
          "metadata": {
            "tags": [],
            "needs_background": "light"
          }
        }
      ]
    },
    {
      "cell_type": "markdown",
      "metadata": {
        "id": "k4KUCRiKvPiP"
      },
      "source": [
        "###ACCURACY VISUALIZATION"
      ]
    },
    {
      "cell_type": "code",
      "metadata": {
        "id": "ikhQQWe3liI_",
        "colab": {
          "base_uri": "https://localhost:8080/",
          "height": 295
        },
        "outputId": "531ed0e7-6e25-406b-db67-83c15223d327"
      },
      "source": [
        "# Plot training and validation accuracy during learning process\n",
        "import matplotlib.pyplot as plt\n",
        "\n",
        "plt.plot(history.history[\"accuracy\"], marker=\"o\", label=\"Training Data\")\n",
        "plt.plot(history.history[\"val_accuracy\"], marker=\"o\", label=\"Validation Data\")\n",
        "plt.title(\"ACCURACY GRAPH\", weight=\"bold\")\n",
        "plt.xlabel(\"Epoch\")\n",
        "plt.ylabel(\"Accuracy\")\n",
        "plt.grid(b=1, axis=\"y\")\n",
        "plt.legend()\n",
        "\n",
        "plt.show()"
      ],
      "execution_count": null,
      "outputs": [
        {
          "output_type": "display_data",
          "data": {
            "image/png": "[encoded data removed]",
            "text/plain": [
              "<Figure size 432x288 with 1 Axes>"
            ]
          },
          "metadata": {
            "tags": [],
            "needs_background": "light"
          }
        }
      ]
    },
    {
      "cell_type": "markdown",
      "metadata": {
        "id": "X-ClOlV7vTvm"
      },
      "source": [
        "##REFERENCE"
      ]
    },
    {
      "cell_type": "markdown",
      "metadata": {
        "id": "M1KuygLyvZ2H"
      },
      "source": [
        "###Dataset source: https://www.kaggle.com/cosmos98/twitter-and-reddit-sentimental-analysis-dataset?select=Twitter_Data.csv"
      ]
    }
  ]
}
